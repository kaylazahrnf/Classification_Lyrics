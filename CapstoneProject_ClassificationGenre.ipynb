{
  "nbformat": 4,
  "nbformat_minor": 0,
  "metadata": {
    "colab": {
      "provenance": [],
      "toc_visible": true
    },
    "kernelspec": {
      "name": "python3",
      "display_name": "Python 3"
    },
    "language_info": {
      "name": "python"
    }
  },
  "cells": [
    {
      "cell_type": "markdown",
      "source": [
        "# Install"
      ],
      "metadata": {
        "id": "hXJ0j5RlmwCZ"
      }
    },
    {
      "cell_type": "code",
      "execution_count": null,
      "metadata": {
        "colab": {
          "base_uri": "https://localhost:8080/"
        },
        "id": "CEB4mRqHBczg",
        "outputId": "f62ac0fb-bd68-42a9-e0ca-6e57e1dacd0d"
      },
      "outputs": [
        {
          "output_type": "stream",
          "name": "stdout",
          "text": [
            "Requirement already satisfied: langchain_community in /usr/local/lib/python3.12/dist-packages (0.3.31)\n",
            "Requirement already satisfied: langchain-core<2.0.0,>=0.3.78 in /usr/local/lib/python3.12/dist-packages (from langchain_community) (0.3.78)\n",
            "Requirement already satisfied: langchain<2.0.0,>=0.3.27 in /usr/local/lib/python3.12/dist-packages (from langchain_community) (0.3.27)\n",
            "Requirement already satisfied: SQLAlchemy<3.0.0,>=1.4.0 in /usr/local/lib/python3.12/dist-packages (from langchain_community) (2.0.43)\n",
            "Requirement already satisfied: requests<3.0.0,>=2.32.5 in /usr/local/lib/python3.12/dist-packages (from langchain_community) (2.32.5)\n",
            "Requirement already satisfied: PyYAML<7.0.0,>=5.3.0 in /usr/local/lib/python3.12/dist-packages (from langchain_community) (6.0.3)\n",
            "Requirement already satisfied: aiohttp<4.0.0,>=3.8.3 in /usr/local/lib/python3.12/dist-packages (from langchain_community) (3.13.0)\n",
            "Requirement already satisfied: tenacity!=8.4.0,<10.0.0,>=8.1.0 in /usr/local/lib/python3.12/dist-packages (from langchain_community) (8.5.0)\n",
            "Requirement already satisfied: dataclasses-json<0.7.0,>=0.6.7 in /usr/local/lib/python3.12/dist-packages (from langchain_community) (0.6.7)\n",
            "Requirement already satisfied: pydantic-settings<3.0.0,>=2.10.1 in /usr/local/lib/python3.12/dist-packages (from langchain_community) (2.11.0)\n",
            "Requirement already satisfied: langsmith<1.0.0,>=0.1.125 in /usr/local/lib/python3.12/dist-packages (from langchain_community) (0.4.33)\n",
            "Requirement already satisfied: httpx-sse<1.0.0,>=0.4.0 in /usr/local/lib/python3.12/dist-packages (from langchain_community) (0.4.2)\n",
            "Requirement already satisfied: numpy>=1.26.2 in /usr/local/lib/python3.12/dist-packages (from langchain_community) (2.0.2)\n",
            "Requirement already satisfied: aiohappyeyeballs>=2.5.0 in /usr/local/lib/python3.12/dist-packages (from aiohttp<4.0.0,>=3.8.3->langchain_community) (2.6.1)\n",
            "Requirement already satisfied: aiosignal>=1.4.0 in /usr/local/lib/python3.12/dist-packages (from aiohttp<4.0.0,>=3.8.3->langchain_community) (1.4.0)\n",
            "Requirement already satisfied: attrs>=17.3.0 in /usr/local/lib/python3.12/dist-packages (from aiohttp<4.0.0,>=3.8.3->langchain_community) (25.4.0)\n",
            "Requirement already satisfied: frozenlist>=1.1.1 in /usr/local/lib/python3.12/dist-packages (from aiohttp<4.0.0,>=3.8.3->langchain_community) (1.8.0)\n",
            "Requirement already satisfied: multidict<7.0,>=4.5 in /usr/local/lib/python3.12/dist-packages (from aiohttp<4.0.0,>=3.8.3->langchain_community) (6.7.0)\n",
            "Requirement already satisfied: propcache>=0.2.0 in /usr/local/lib/python3.12/dist-packages (from aiohttp<4.0.0,>=3.8.3->langchain_community) (0.3.2)\n",
            "Requirement already satisfied: yarl<2.0,>=1.17.0 in /usr/local/lib/python3.12/dist-packages (from aiohttp<4.0.0,>=3.8.3->langchain_community) (1.22.0)\n",
            "Requirement already satisfied: marshmallow<4.0.0,>=3.18.0 in /usr/local/lib/python3.12/dist-packages (from dataclasses-json<0.7.0,>=0.6.7->langchain_community) (3.26.1)\n",
            "Requirement already satisfied: typing-inspect<1,>=0.4.0 in /usr/local/lib/python3.12/dist-packages (from dataclasses-json<0.7.0,>=0.6.7->langchain_community) (0.9.0)\n",
            "Requirement already satisfied: langchain-text-splitters<1.0.0,>=0.3.9 in /usr/local/lib/python3.12/dist-packages (from langchain<2.0.0,>=0.3.27->langchain_community) (0.3.11)\n",
            "Requirement already satisfied: pydantic<3.0.0,>=2.7.4 in /usr/local/lib/python3.12/dist-packages (from langchain<2.0.0,>=0.3.27->langchain_community) (2.11.10)\n",
            "Requirement already satisfied: jsonpatch<2.0.0,>=1.33.0 in /usr/local/lib/python3.12/dist-packages (from langchain-core<2.0.0,>=0.3.78->langchain_community) (1.33)\n",
            "Requirement already satisfied: typing-extensions<5.0.0,>=4.7.0 in /usr/local/lib/python3.12/dist-packages (from langchain-core<2.0.0,>=0.3.78->langchain_community) (4.15.0)\n",
            "Requirement already satisfied: packaging<26.0.0,>=23.2.0 in /usr/local/lib/python3.12/dist-packages (from langchain-core<2.0.0,>=0.3.78->langchain_community) (25.0)\n",
            "Requirement already satisfied: httpx<1,>=0.23.0 in /usr/local/lib/python3.12/dist-packages (from langsmith<1.0.0,>=0.1.125->langchain_community) (0.28.1)\n",
            "Requirement already satisfied: orjson>=3.9.14 in /usr/local/lib/python3.12/dist-packages (from langsmith<1.0.0,>=0.1.125->langchain_community) (3.11.3)\n",
            "Requirement already satisfied: requests-toolbelt>=1.0.0 in /usr/local/lib/python3.12/dist-packages (from langsmith<1.0.0,>=0.1.125->langchain_community) (1.0.0)\n",
            "Requirement already satisfied: zstandard>=0.23.0 in /usr/local/lib/python3.12/dist-packages (from langsmith<1.0.0,>=0.1.125->langchain_community) (0.25.0)\n",
            "Requirement already satisfied: python-dotenv>=0.21.0 in /usr/local/lib/python3.12/dist-packages (from pydantic-settings<3.0.0,>=2.10.1->langchain_community) (1.1.1)\n",
            "Requirement already satisfied: typing-inspection>=0.4.0 in /usr/local/lib/python3.12/dist-packages (from pydantic-settings<3.0.0,>=2.10.1->langchain_community) (0.4.2)\n",
            "Requirement already satisfied: charset_normalizer<4,>=2 in /usr/local/lib/python3.12/dist-packages (from requests<3.0.0,>=2.32.5->langchain_community) (3.4.3)\n",
            "Requirement already satisfied: idna<4,>=2.5 in /usr/local/lib/python3.12/dist-packages (from requests<3.0.0,>=2.32.5->langchain_community) (3.10)\n",
            "Requirement already satisfied: urllib3<3,>=1.21.1 in /usr/local/lib/python3.12/dist-packages (from requests<3.0.0,>=2.32.5->langchain_community) (2.5.0)\n",
            "Requirement already satisfied: certifi>=2017.4.17 in /usr/local/lib/python3.12/dist-packages (from requests<3.0.0,>=2.32.5->langchain_community) (2025.10.5)\n",
            "Requirement already satisfied: greenlet>=1 in /usr/local/lib/python3.12/dist-packages (from SQLAlchemy<3.0.0,>=1.4.0->langchain_community) (3.2.4)\n",
            "Requirement already satisfied: anyio in /usr/local/lib/python3.12/dist-packages (from httpx<1,>=0.23.0->langsmith<1.0.0,>=0.1.125->langchain_community) (4.11.0)\n",
            "Requirement already satisfied: httpcore==1.* in /usr/local/lib/python3.12/dist-packages (from httpx<1,>=0.23.0->langsmith<1.0.0,>=0.1.125->langchain_community) (1.0.9)\n",
            "Requirement already satisfied: h11>=0.16 in /usr/local/lib/python3.12/dist-packages (from httpcore==1.*->httpx<1,>=0.23.0->langsmith<1.0.0,>=0.1.125->langchain_community) (0.16.0)\n",
            "Requirement already satisfied: jsonpointer>=1.9 in /usr/local/lib/python3.12/dist-packages (from jsonpatch<2.0.0,>=1.33.0->langchain-core<2.0.0,>=0.3.78->langchain_community) (3.0.0)\n",
            "Requirement already satisfied: annotated-types>=0.6.0 in /usr/local/lib/python3.12/dist-packages (from pydantic<3.0.0,>=2.7.4->langchain<2.0.0,>=0.3.27->langchain_community) (0.7.0)\n",
            "Requirement already satisfied: pydantic-core==2.33.2 in /usr/local/lib/python3.12/dist-packages (from pydantic<3.0.0,>=2.7.4->langchain<2.0.0,>=0.3.27->langchain_community) (2.33.2)\n",
            "Requirement already satisfied: mypy-extensions>=0.3.0 in /usr/local/lib/python3.12/dist-packages (from typing-inspect<1,>=0.4.0->dataclasses-json<0.7.0,>=0.6.7->langchain_community) (1.1.0)\n",
            "Requirement already satisfied: sniffio>=1.1 in /usr/local/lib/python3.12/dist-packages (from anyio->httpx<1,>=0.23.0->langsmith<1.0.0,>=0.1.125->langchain_community) (1.3.1)\n",
            "Requirement already satisfied: replicate in /usr/local/lib/python3.12/dist-packages (1.0.7)\n",
            "Requirement already satisfied: httpx<1,>=0.21.0 in /usr/local/lib/python3.12/dist-packages (from replicate) (0.28.1)\n",
            "Requirement already satisfied: packaging in /usr/local/lib/python3.12/dist-packages (from replicate) (25.0)\n",
            "Requirement already satisfied: pydantic>1.10.7 in /usr/local/lib/python3.12/dist-packages (from replicate) (2.11.10)\n",
            "Requirement already satisfied: typing_extensions>=4.5.0 in /usr/local/lib/python3.12/dist-packages (from replicate) (4.15.0)\n",
            "Requirement already satisfied: anyio in /usr/local/lib/python3.12/dist-packages (from httpx<1,>=0.21.0->replicate) (4.11.0)\n",
            "Requirement already satisfied: certifi in /usr/local/lib/python3.12/dist-packages (from httpx<1,>=0.21.0->replicate) (2025.10.5)\n",
            "Requirement already satisfied: httpcore==1.* in /usr/local/lib/python3.12/dist-packages (from httpx<1,>=0.21.0->replicate) (1.0.9)\n",
            "Requirement already satisfied: idna in /usr/local/lib/python3.12/dist-packages (from httpx<1,>=0.21.0->replicate) (3.10)\n",
            "Requirement already satisfied: h11>=0.16 in /usr/local/lib/python3.12/dist-packages (from httpcore==1.*->httpx<1,>=0.21.0->replicate) (0.16.0)\n",
            "Requirement already satisfied: annotated-types>=0.6.0 in /usr/local/lib/python3.12/dist-packages (from pydantic>1.10.7->replicate) (0.7.0)\n",
            "Requirement already satisfied: pydantic-core==2.33.2 in /usr/local/lib/python3.12/dist-packages (from pydantic>1.10.7->replicate) (2.33.2)\n",
            "Requirement already satisfied: typing-inspection>=0.4.0 in /usr/local/lib/python3.12/dist-packages (from pydantic>1.10.7->replicate) (0.4.2)\n",
            "Requirement already satisfied: sniffio>=1.1 in /usr/local/lib/python3.12/dist-packages (from anyio->httpx<1,>=0.21.0->replicate) (1.3.1)\n"
          ]
        }
      ],
      "source": [
        "!pip install langchain_community\n",
        "!pip install replicate"
      ]
    },
    {
      "cell_type": "code",
      "source": [
        "from langchain_community.llms import Replicate\n",
        "import os\n",
        "from google.colab import userdata\n",
        "# Set the API token\n",
        "api_token = userdata.get('api_token')\n",
        "os.environ[\"REPLICATE_API_TOKEN\"] = api_token\n",
        "# Model setup\n",
        "model = \"ibm-granite/granite-3.3-8b-instruct\"\n",
        "output = Replicate(\n",
        "model=model,\n",
        "replicate_api_token=api_token,\n",
        "temperature=0.0\n",
        ")"
      ],
      "metadata": {
        "colab": {
          "base_uri": "https://localhost:8080/"
        },
        "id": "6pbfXfB4HhFW",
        "outputId": "70a6dfbc-c8e2-427d-c6a0-2fc028aa9805"
      },
      "execution_count": null,
      "outputs": [
        {
          "output_type": "stream",
          "name": "stderr",
          "text": [
            "WARNING:langchain_community.llms.replicate:temperature was transferred to model_kwargs.\n",
            "                    Please confirm that temperature is what you intended.\n"
          ]
        }
      ]
    },
    {
      "cell_type": "markdown",
      "source": [
        "# Cleaning dataset"
      ],
      "metadata": {
        "id": "tZQNxOaym8nX"
      }
    },
    {
      "cell_type": "code",
      "source": [
        "# Library\n",
        "import pandas as pd\n",
        "import re\n",
        "import time\n",
        "from sklearn.model_selection import train_test_split\n",
        "\n",
        "FILE_NAME = \"GenreClassification.csv\"\n",
        "\n",
        "try:\n",
        "    df = pd.read_csv(FILE_NAME)\n",
        "    print(\"Dataset berhasil dimuat!\")\n",
        "except FileNotFoundError:\n",
        "    print(f\"ERROR: File {FILE_NAME} tidak ditemukan. Pastikan file sudah di-upload.\")\n",
        "    exit()\n",
        "\n",
        "print(\"\\n--- Info Dataset Awal ---\")\n",
        "print(f\"Jumlah baris: {len(df)}\")\n",
        "print(df.head())\n",
        "print(df.info())"
      ],
      "metadata": {
        "colab": {
          "base_uri": "https://localhost:8080/"
        },
        "id": "yu9gpY6dHnaY",
        "outputId": "e34ed9ce-377d-4bee-a189-09ecf1bc57b1"
      },
      "execution_count": null,
      "outputs": [
        {
          "output_type": "stream",
          "name": "stdout",
          "text": [
            "Dataset berhasil dimuat!\n",
            "\n",
            "--- Info Dataset Awal ---\n",
            "Jumlah baris: 10995\n",
            "   Unnamed: 0                                             lyrics genere\n",
            "0           0  \\nyo i never fucked wayne i never fucked drake...    rap\n",
            "1           1  \\nyo b they ready\\nlet's go\\n\\nfeelin' myself ...    rap\n",
            "2           2  \\nuh mmm kyuh\\nrip to big \\nclassic shit\\n\\ni'...    rap\n",
            "3           3  \\nyou know yeah\\ntouchin' yeah\\nnight of\\nyou ...    rap\n",
            "4           4  \\nayo look like i'm goin' for a swim\\ndunked o...    rap\n",
            "<class 'pandas.core.frame.DataFrame'>\n",
            "RangeIndex: 10995 entries, 0 to 10994\n",
            "Data columns (total 3 columns):\n",
            " #   Column      Non-Null Count  Dtype \n",
            "---  ------      --------------  ----- \n",
            " 0   Unnamed: 0  10995 non-null  int64 \n",
            " 1   lyrics      10995 non-null  object\n",
            " 2   genere      10995 non-null  object\n",
            "dtypes: int64(1), object(2)\n",
            "memory usage: 257.8+ KB\n",
            "None\n"
          ]
        }
      ]
    },
    {
      "cell_type": "code",
      "source": [
        "print(\"\\n--- Distribusi Genre ---\")\n",
        "genre_counts = df['genere'].value_counts()\n",
        "print(genre_counts)"
      ],
      "metadata": {
        "colab": {
          "base_uri": "https://localhost:8080/"
        },
        "id": "i5tPTUiNJ2Qx",
        "outputId": "d812ea08-c05c-4bf7-e73f-2db28f74a11e"
      },
      "execution_count": null,
      "outputs": [
        {
          "output_type": "stream",
          "name": "stdout",
          "text": [
            "\n",
            "--- Distribusi Genre ---\n",
            "genere\n",
            "country    2920\n",
            "rap        2879\n",
            "rock       2758\n",
            "pop        2438\n",
            "Name: count, dtype: int64\n"
          ]
        }
      ]
    },
    {
      "cell_type": "code",
      "source": [
        "def clean_lyrics(text):\n",
        "    \"\"\"Fungsi untuk membersihkan lirik dari metadata dan simbol.\"\"\"\n",
        "    if pd.isna(text):\n",
        "        return \"\"\n",
        "\n",
        "    text = re.sub(r'\\[.*?\\]', '', text)\n",
        "    text = re.sub(r'\\((.*?)\\)', '', text)\n",
        "    text = re.sub(r'[^a-zA-Z\\s]', '', text)\n",
        "    text = re.sub(r'\\n+', ' ', text)\n",
        "    text = re.sub(r'\\s+', ' ', text).strip()\n",
        "    return text.lower()\n",
        "\n",
        "df['lirik_bersih'] = df['lyrics'].apply(clean_lyrics)\n",
        "df = df[df['lirik_bersih'].str.len() > 10]\n",
        "print(f\"\\nJumlah baris setelah dibersihkan: {len(df)}\")"
      ],
      "metadata": {
        "colab": {
          "base_uri": "https://localhost:8080/"
        },
        "id": "4BQtyBwRKAAC",
        "outputId": "e7cacec9-5dbc-40af-bc55-2fb6d80de365"
      },
      "execution_count": null,
      "outputs": [
        {
          "output_type": "stream",
          "name": "stdout",
          "text": [
            "\n",
            "Jumlah baris setelah dibersihkan: 10995\n"
          ]
        }
      ]
    },
    {
      "cell_type": "code",
      "source": [
        "data = df['lirik_bersih']\n",
        "labels = df['genere']\n",
        "\n",
        "# pembagian data: 80% Train, 20% Test\n",
        "X_train, X_test, y_train, y_test = train_test_split(\n",
        "    data, labels, test_size=0.20, random_state=42, stratify=labels\n",
        ")\n",
        "\n",
        "# stratify=labels memastikan pembagian genre di Train dan Test set seimbang\n",
        "\n",
        "print(\"\\n--- Hasil Pembagian Data ---\")\n",
        "print(f\"Jumlah data TRAIN (untuk contoh Few-Shot): {len(X_train)} baris\")\n",
        "print(f\"Jumlah data TEST (untuk diuji di Granite): {len(X_test)} baris\")\n",
        "\n",
        "# Buat DataFrame Test akhir yang siap dikirim\n",
        "test_df = pd.DataFrame({'lirik': X_test, 'genre_aktual': y_test}).reset_index(drop=True)\n",
        "\n",
        "print(\"\\nTest DataFrame siap digunakan untuk pengujian Granite:\")\n",
        "print(test_df.head())"
      ],
      "metadata": {
        "colab": {
          "base_uri": "https://localhost:8080/"
        },
        "id": "_z44HW8NKO4Q",
        "outputId": "2747f4bf-fd7c-40b5-dc05-9dd8c4f08718"
      },
      "execution_count": null,
      "outputs": [
        {
          "output_type": "stream",
          "name": "stdout",
          "text": [
            "\n",
            "--- Hasil Pembagian Data ---\n",
            "Jumlah data TRAIN (untuk contoh Few-Shot): 8796 baris\n",
            "Jumlah data TEST (untuk diuji di Granite): 2199 baris\n",
            "\n",
            "Test DataFrame siap digunakan untuk pengujian Granite:\n",
            "                                               lirik genre_aktual\n",
            "0  un adis sin razones unos aos sin valor bardi a...          rap\n",
            "1  if you disrespect thats automatic so hear me c...          rap\n",
            "2  im for law and order the way that it should be...      country\n",
            "3  roses are red my love violets are blue a long ...      country\n",
            "4  if heartaches brought fame in loves crazy game...      country\n"
          ]
        }
      ]
    },
    {
      "cell_type": "markdown",
      "source": [
        "# Sample"
      ],
      "metadata": {
        "id": "utQC4-DGnih1"
      }
    },
    {
      "cell_type": "code",
      "source": [
        "print(\"\\n--- Verifikasi Sampel Test Set (15 Baris Pertama) ---\")\n",
        "pd.set_option('display.max_colwidth', 150)\n",
        "print(test_df.head(15))\n",
        "pd.reset_option('display.max_colwidth')"
      ],
      "metadata": {
        "colab": {
          "base_uri": "https://localhost:8080/"
        },
        "id": "zUhFKIAwKg00",
        "outputId": "d5538595-5a37-4af3-a663-7002bb842db7"
      },
      "execution_count": null,
      "outputs": [
        {
          "output_type": "stream",
          "name": "stdout",
          "text": [
            "\n",
            "--- Verifikasi Sampel Test Set (15 Baris Pertama) ---\n",
            "                                                                                                                                                    lirik  \\\n",
            "0   un adis sin razones unos aos sin valor bardi aint no halfsteppin all i do is break records now i play chess so a bitch cant checker made it out of...   \n",
            "1                                           if you disrespect thats automatic so hear me clear bitches say i aint tryna hear it tryna you might also like   \n",
            "2   im for law and order the way that it should be this songs about the night they spent protecting you from me someone called us outlaws in some old ...   \n",
            "3   roses are red my love violets are blue a long long time ago on graduation day you handed me your book i signed this way roses are red my love viol...   \n",
            "4   if heartaches brought fame in loves crazy game id be a legend in my time if they gave gold statuettes for tears and regrets id be a legend in my t...   \n",
            "5           my bitches right there there my riches right too too youn dont touch it my diamonds diamonds diamonds are the metaphysicalyou might also like   \n",
            "6   oh the wayward wind is a restless wind a restless wind that yearns to wonder and i was born the next of kin the next of kin to the wayward wind in...   \n",
            "7   my tone im not disrespectful speaking from the bottom comin from the bottom livin underneath your shoe if you look hard enough miss bikini bottom ...   \n",
            "8   ride cowboy ride dont ride too slow tucsons a mighty long way yet to go he started his long ride in prescott the sun was a hundred or more on down...   \n",
            "9   oh ooh yeah you you got a nasty reputation were in a sticky situation its down to me and you so tell me is it true they say there aint nobody bett...   \n",
            "10  i was born in east virginia north carolina i did go there i courted a fair young maiden but her age i did not know oh her hair was dark and curly ...   \n",
            "11  youve got style thats what all the girls say satin sheets and luxuries so fine all your suits are custom made in london but ive got something that...   \n",
            "12  i just wanna show you that i can do better baby i wont stop til you let me give you what you want til you let me give you what you want ill do wha...   \n",
            "13  well on a train i met a dame she rather handsome we kinda looked the same she was pretty from new york city im walking down that old fair lane im ...   \n",
            "14  oh if youve ever seen that ole mississippi the queen of the delta land then youll understand why ive got the blues for dixie if youve ever been to...   \n",
            "\n",
            "   genre_aktual  \n",
            "0           rap  \n",
            "1           rap  \n",
            "2       country  \n",
            "3       country  \n",
            "4       country  \n",
            "5           rap  \n",
            "6       country  \n",
            "7           pop  \n",
            "8       country  \n",
            "9          rock  \n",
            "10      country  \n",
            "11          pop  \n",
            "12          rap  \n",
            "13         rock  \n",
            "14      country  \n"
          ]
        }
      ]
    },
    {
      "cell_type": "code",
      "source": [
        "#Langkah 4A\n",
        "import pandas as pd\n",
        "import numpy as np\n",
        "\n",
        "train_df = pd.DataFrame({'lirik': X_train, 'genre': y_train})\n",
        "\n",
        "# diambil 2 sample dari masing-masing genre, jadi ada 8 sample\n",
        "few_shot_examples_df = train_df.groupby('genre').sample(n=2, random_state=42, replace=False)\n",
        "\n",
        "few_shot_examples_df = few_shot_examples_df.sample(frac=1, random_state=10).reset_index(drop=True)\n",
        "\n",
        "# format\n",
        "FEW_SHOT_EXAMPLES = \"\"\n",
        "for index, row in few_shot_examples_df.iterrows():\n",
        "    FEW_SHOT_EXAMPLES += f\"Lirik: {row['lirik']}\\nGenre: {row['genre']}\\n\"\n",
        "FEW_SHOT_EXAMPLES = FEW_SHOT_EXAMPLES.strip()\n",
        "\n",
        "print(\"--- Contoh Few-Shot yang Digunakan (8 Contoh Seimbang) ---\")\n",
        "print(FEW_SHOT_EXAMPLES)"
      ],
      "metadata": {
        "colab": {
          "base_uri": "https://localhost:8080/"
        },
        "id": "t8FMjejAL8KE",
        "outputId": "b1d8ec1c-0af9-4bd2-ef84-19ecce045994"
      },
      "execution_count": null,
      "outputs": [
        {
          "output_type": "stream",
          "name": "stdout",
          "text": [
            "--- Contoh Few-Shot yang Digunakan (8 Contoh Seimbang) ---\n",
            "Lirik: one two three elementary i need you i got no plan b youre my girl youre my girl four five six no magical tricks mint condition getting my fix youre my girl youre my girl you can turn me on like a tv strutting through the city making me sweat you make it look easy the beat of my heart the beat that wont leave me my girl youre unbelievable baby how you do it like that you walk by and give the world whiplash mercy mercy mercy mercy mercy mercy girl youre unbelievable shining mak a diamond get mad you show up and make the whol room clap mercy mercy mercy mercy mercy mercy girl youre unbelievable see jonas brothers liveget tickets as low as you might also like she dont try hard dance and dont think loves karaoke says she cant sing my girl my girl im talking bout my girl you can turn me on like a tv strutting through the city making me sweat you make it look easy the beat of my heart the beat that wont leave me my girl my girl my girl youre unbelievable baby how you do it like that you walk by and give the world whiplash mercy mercy mercy mercy mercy mercy girl youre unbelievable shining make a diamond get mad you show up and make the whole room clap mercy mercy mercy mercy oh yeah mercy mercy girl youre unbelievable youre unbelievable you can turn me on like a tv strutting through the city making me sweat you make it look easy the beat of my heart the beat that wont leave me my girl my girl my girl youre unbelievable baby how you do it like that you walk by and give the world whiplash mercy mercy mercy mercy mercy mercy girl youre unbelievable shining make a diamond get mad you show up and make the whole room clap mercy mercy mercy mercy mercy mercy girl youre unbelievable mercy mercy mercy mercy mercy mercy girl youre unbelievable\n",
            "Genre: pop\n",
            "Lirik: no yeah hey boy you know that you drive me crazy but its one of the things i like cause i know when you need it baby that i got that oohooh let em keep let em keep on talkin but it dont matter what they say cause you know when you hear me knockin gonna get that oohooh ive been doing stupid things wilder than ive ever been youve become my favorite sin so let em keep let em keep on talking thats right we got that hood love we got that good love we got that hot love we got that i dont give a what love we got that one life gimme that all night we got that bonnie and clyde love they say its wrong but thats the way you turn me on we got that hood love we got that good love make me make bad boy you make me make bad decisions bad boy you make me make bad decisions you might also like no they aint gonna understand it understand what i see in you they dont know when you touch my body that i see the truth let em keep let em keep on talking cause i know that i got someone anytime that i need some danger gonna get that oohooh ive been doing stupid things wilder than ive ever been youve become my favorite sin so let em keep let em keep on talking thats right we got that hood love we got that good love we got that hot love we got that i dont give a what love we got that one life gimme that all night we got that bonnie and clyde love they say its wrong they say its wrong but thats the way you turn me on we got that hood love we got that good love make me make bad boy you make me make bad decisions boy you make me bad boy you make me make bad decisions boy babe nah yeah dont you know i aint fuckin with them good boys know you love me like aint nobody could boy if you want it boy you got it aint you ever seen a princess be a bad bitch we got that hood love we got that good love we got that hot love we got that i dont give a what love we got that one life gimme that all night we got that bonnie and clyde love they say its wrong they say its wrong but thats the way you turn me on you turn me on we got that hood love we got that good love make me make bad boy you make me make bad decisions bad boy you make me make bad decisions bad boy you make me make bad decisions bad boy you make me make bad decisions\n",
            "Genre: pop\n",
            "Lirik: damn that television what a bad picture dont get upset its not a major disaster theres nothing on tonight he said i dont know whats the matter nothings ever on she said so i dont know why you bother weve heard this little scene weve heard it many times people fighting over little things and wasting precious time they might be better off i think the way it seems to me making up their own shows which might be better than tv judys in the bedroom inventing situations bob is on the street today scouting up locations theyve enlisted all their family theyve enlisted all their friends it helped save their relationship and made it work again their show gets real high ratings they think they have a hit there might even be a spinoff but theyre not sure bout that if they ever watch tv again itd be too soon for them bob never yells about the picture now hes having too much fun judys in the bedroom inventing situations bob is on the street today scouting up locations theyve enlisted all their family theyve enlisted all their friends it helped save their relationship and made it work again you might also like so think about this little scene apply it to your life if your work isnt what you love then something isnt right just think of bob and judy theyre happy as can be inventing situations putting them on tv judys in the bedroom inventing situations bob is on the street today hes having a vacation theyve enlisted all their family theyve enlisted all their friends it helped save their relationship and made it work again hit it\n",
            "Genre: rock\n",
            "Lirik: we came in so ya thought ya might like to go to the show to feel the warm thrill of confusion that space cadet glow tell me is something eluding you sunshine is this not what you expected to see if you wanna find out whats behind these cold eyes youll just have to claw your way through this disguise lights roll the sound effects action drop it drop it on em drop it drop it on them airplane descending baby cryingyou might also like\n",
            "Genre: rock\n",
            "Lirik: i stepped out this morning to watch my drivers roll to hear my whistle blowing while the fireman slings the coal when i got to the switchyard i heard a brakeman say oh what a mystery your engines cold today yodel up stepped a little maiden with a teardrop in her eye she began oh mister man do you pull old number five my daddy was your fireman and he often spoke of you of being so kindhearted so honest so brave so true he was found dead this morning on trestle number five on his way to prepare the morning train for you the story explaining the mystry by a little maiden was told twas the first time in history i found my engine cold yodel so you railroad men take warning and play this game fair so when the master calls on us well meet my fireman up thereyou might also like\n",
            "Genre: country\n",
            "Lirik: kill jayz theyll never love you youll never be enough lets just keep it real jayz fuck jayz i mean you shot your own brother how can we know if we can trust jayz and you know better nigga i know you do but you gotta do better boy you owe it to blue you had no father you had the armor but you got a daughter gotta get softer die jayz this aint back in the days you dont need an alibi jayz cry jayz we know the pain is real but you cant heal what you never reveal whats up jayz you know you owe the truth to all the youth that fell in love with jayz you got people you love you sold drugs to you got high on the life that shit drugged you you walkin around like you invincible you dropped outta school you lost your principles i know people backstab you i felt bad too but this fuck everybody attitude aint natural but you aint a saint this aint kumbaye but you got hurt because you did cool by ye you gave him twenty million without blinkin he gave you twenty minutes on stage fuck was he thinkin fuck wrong with everybody is what you sayin but if everybodys crazy youre the one thats insane crazy how life works you got a knot in your chest imagine how a knife hurts you stabbed un over some records your excuse was he was talkin too reckless let go your ego over your right shoulder your left is sayin finish your breakfast you egged solange on knowin all along all you had to say you was wrong you almost went eric bent let the baddest girl in the world get away i dont even know what else to say nigga never go eric bent i dont even know what you woulda done in the future other niggas playin football with your son you woulda lost it bottles of ace of spade what it did to boston nah jayz bye jayzyou might also like\n",
            "Genre: rap\n",
            "Lirik: how much a dollar really cost the question is detrimental paralyzin my thoughts parasites in my stomach keep me with a gut feeling yall gotta see how im chillin once i park this luxury car hopping out feeling big as mutombo on pump dirty marcellus called me dumbo twenty years ago cant forget now i can lend him a ear or two how to stack these residuals tenfold the liberal concept of what menll do on he didnt hear me indigenous african only spoke zulu my american tongue was leery walked out the gas station a homeless man with a semitan complexion asked me for ten rand stressin about dry land deep water powder blue skies that crack open a piece of crack that he wanted i knew he was smokin he begged and pleaded asked me to feed him twice i didnt believe it told him beat it contributin money just for his pipei couldnt see it he said my son temptation is one thing that ive defeated listen to me i want a single bill from you nothin less nothin more i told him i aint have it and closed my door tell me how much a dollar cost see kendrick lamar liveget tickets as low as you might also like its more to feed your mind water sun and love the one you love all you need the air you breathe hes starin at me in disbelief my temper is buildin hes starin at me i grab my key hes starin at me i started the car then i tried to leave and somethin told me to keep it in park until i could see the reason why he was mad at a stranger like i was supposed to save him like im the reason hes homeless and askin me for a favor hes starin at me his eyes followed me with no laser hes starin at me i notice that his stare is contagious cause now im starin back at him feelin some type of disrespect if i could throw a bat at him itd be aimin at his neck i never understood someone beggin for goods askin for handouts takin it if they could and this particular person just had it down pat starin at me for the longest until he finally asked have you ever opened up exodus a humble man is all that we ever need tell me how much a dollar cost its more to feed your mind water sun and love the one you love all you need the air you breathe guilt trippin and feelin resentment i never met a transient that demanded attention they got me frustrated indecisive and power trippin sour emotions got me lookin at the universe different i should distance myself i should keep it relentless my selfishness is what got me here who the fuck im kiddin so ima tell you like i told the last bum crumbs and pennies i need all of mines and i recognize this type of panhandlin all the time i got better judgment i know when niggas hustlin keep in mind when i was strugglin i did compromise now i comprehend i smell grandpas old medicine reekin from your skin moonshine and gin nigga youre babblin your words aint flatterin im imaginin denzel but lookin at oneal kazaam is sad thrills your gimmick is mediocre the jig is up i seen you from a mile away losin focus and im insensitive and i lack empathy he looked at me and said your potential is bittersweet i looked at him and said every nickel is mines to keep he looked at me and said know the truth itll set you free youre lookin at the messiah the son of jehovah the higher power the choir that spoke the word the holy spirit the nerve of nazareth and ill tell you just how much a dollar cost the price of having a spot in heaven embrace your lossi am god i washed my hands i said my grace what more do you want from me tears of a clown guess im not all what its all meant to be shades of grey will never change if i condone turn this page help me change to right my wrongs\n",
            "Genre: rap\n",
            "Lirik: im going down this road feeling bad im going down this road feeling bad im going down this road feeling bad lord lord and i aint agonna be treated this away down in the jailhouse on my knees down in the jailhouse on my knees down in the jailhouse on my kneesgreat god and i aint agonna be treated this away down in the jailhouse on my knees down in the jailhouse on my knees down in the jailhouse on my kneesgreat god and i aint agonna be treated this away they feed me on corn bread and beens they feed me on corn bread and beens they feed me on corn bread and beens o lord and i aint agonna be treated this away down in the jailhouse on my knees down in the jailhouse on my knees down in the jailhouse on my kneesgreat god and i aint agonna be treated this away i aint got no shoes on my feet i aint got no shoes on my feet i aint got no shoes on my feet lord god and i aint agonna be treated this away you might also likedown in the jailhouse on my knees down in the jailhouse on my knees down in the jailhouse on my kneesgreat god and i aint agonna be treated this away it takes a ten dollar shoe to fit my foot it takes a ten dollar shoe to fit my foot it takes a ten dollar shoe to fit my foot great god and i aint agonna be treated this away down in the jailhouse on my knees down in the jailhouse on my knees down in the jailhouse on my kneesgreat god and i aint agonna be treated this away im going where the climate suits my clothes im going where the climate suits my clothes im going where the climate suits my clothes o lord and i aint agonna be treated this away down in the jailhouse on my knees down in the jailhouse on my knees down in the jailhouse on my kneesgreat god and i aint agonna be treated this away im goin if i never get back im goin if i never get back im goin if i never get back lord god and i aint agonna be treated this away down in the jailhouse on my knees down in the jailhouse on my knees down in the jailhouse on my kneesgreat god and i aint agonna be treated this away\n",
            "Genre: country\n"
          ]
        }
      ]
    },
    {
      "cell_type": "markdown",
      "source": [
        "# Template"
      ],
      "metadata": {
        "id": "XzpdCgdLnlds"
      }
    },
    {
      "cell_type": "code",
      "source": [
        "#Langkah 4B\n",
        "PROMPT_TEMPLATE = f\"\"\"\n",
        "Anda adalah sistem klasifikasi genre musik yang sangat akurat dan teliti. Tugas Anda adalah mengklasifikasikan lirik lagu baru secara ketat ke dalam salah satu dari empat genre yang diizinkan: [country, rap, rock, pop].\n",
        "\n",
        "JAWABAN HARUS BERUPA SATU KATA SAJA: 'country', 'rap', 'rock', atau 'pop'.\n",
        "\n",
        "--- PEDOMAN KLASIFIKASI KRUSIAL ---\n",
        "\n",
        "1.  **RAP:** Fokus pada lirik yang *rhythmic*, sering kali berbentuk **narasi cerita** (misalnya tentang kehidupan jalanan, kemewahan, perjuangan), menggunakan *slang* atau bahasa lugas, dan penekanan pada **rima dan meteran vokal**.\n",
        "2.  **COUNTRY:** Fokus pada **tema pedesaan** (truk, bir, bar, pertanian, alam), kisah **cinta yang sederhana/patah hati**, dan sering kali bercerita tentang **nilai-nilai tradisional**.\n",
        "3.  **ROCK:** Fokus pada lirik yang **agresif, berenergi tinggi, atau introspektif mendalam** (metafora, kritik sosial, pemberontakan). Lirik sering kali bersifat **emosional, abstrak, atau teatrikal**.\n",
        "4.  **POP:** Fokus pada **tema universal** seperti cinta, hubungan, pesta, dan perasaan yang **mudah dicerna** (radio-friendly). Lirik pop cenderung sederhana, *catchy*, dan kurang menekan pada rima kompleks seperti Rap.\n",
        "\n",
        "--- CONTOH KLASIFIKASI FEW-SHOT (Total 8 Contoh) ---\n",
        "{FEW_SHOT_EXAMPLES}\n",
        "---\n",
        "\n",
        "Sekarang, klasifikasikan lirik baru berikut berdasarkan pedoman di atas dan contoh yang diberikan.\n",
        "Lirik: {{lyric_to_classify}}\n",
        "Genre:\n",
        "\"\"\"\n",
        "print(\"Template prompt sudah siap.\")"
      ],
      "metadata": {
        "colab": {
          "base_uri": "https://localhost:8080/"
        },
        "id": "Gcw3Q9vHcnQ1",
        "outputId": "0bb834e4-c015-4f04-d086-2c853d41dc21"
      },
      "execution_count": null,
      "outputs": [
        {
          "output_type": "stream",
          "name": "stdout",
          "text": [
            "Template Prompt Utama Sudah Diperbarui dengan Instruksi Detail.\n"
          ]
        }
      ]
    },
    {
      "cell_type": "code",
      "source": [
        "#Langkah 5B\n",
        "def classify_with_granite(lyric):\n",
        "    \"\"\"Mengirim lirik ke Granite dan mengembalikan hasil genre yang sudah dibersihkan.\"\"\"\n",
        "\n",
        "    # Masukkan lirik ke dalam template prompt\n",
        "    prompt = PROMPT_TEMPLATE.format(lyric_to_classify=lyric)\n",
        "\n",
        "    # Panggil API menggunakan variabel 'output'\n",
        "    try:\n",
        "        raw_response = output(prompt)\n",
        "        cleaned_response = raw_response.strip().split('\\n')[0].lower()\n",
        "        final_genre = cleaned_response.split()[0]\n",
        "        return final_genre\n",
        "    except Exception as e:\n",
        "        print(f\"Error pada API Call: {e}\")\n",
        "        return \"ERROR_API\"\n",
        "\n",
        "     # Output clean\n",
        "    try:\n",
        "        raw_response = output(prompt)\n",
        "        cleaned_response = raw_response.strip().lower()\n",
        "        genres = ['rap', 'rock', 'pop', 'country']\n",
        "        for genre in genres:\n",
        "            if cleaned_response.startswith(genre):\n",
        "                return genre\n",
        "\n",
        "        parts = cleaned_response.split()\n",
        "        for part in parts:\n",
        "            part = part.strip('.:;')\n",
        "            if part in genres:\n",
        "                return part\n",
        "\n",
        "        return \"ERROR_CLEANING\"\n",
        "\n",
        "    except Exception as e:\n",
        "        print(f\"Error pada API Call: {e.args[0]}\")\n",
        "        return \"ERROR_API\""
      ],
      "metadata": {
        "id": "8UtuZ43Pcu5M"
      },
      "execution_count": null,
      "outputs": []
    },
    {
      "cell_type": "markdown",
      "source": [
        "# Trials"
      ],
      "metadata": {
        "id": "SFpxm0B_nqYr"
      }
    },
    {
      "cell_type": "code",
      "source": [
        "#Langkah 6 (HANYA TEST DAN BUKAN HASIL FIX, GAUSA DI RUN ULANG)\n",
        "# UJI COBA BATCH 1 (100 baris pertama dari Test Set)\n",
        "BATCH_SIZE = 100\n",
        "test_batch = test_df.head(BATCH_SIZE).copy()\n",
        "test_batch['genre_prediksi'] = 'PENDING'\n",
        "JEDA_PERMINTAAN = 10\n",
        "\n",
        "print(f\"\\n--- Memulai Pengujian Batch Awal ({BATCH_SIZE} Data) ---\")\n",
        "print(f\"JEDA: {JEDA_PERMINTAAN} detik per permintaan untuk menghindari Rate Limit.\")\n",
        "\n",
        "for index, row in test_batch.iterrows():\n",
        "    lyric = row['lirik']\n",
        "\n",
        "    prediksi = classify_with_granite(lyric)\n",
        "    test_batch.loc[index, 'genre_prediksi'] = prediksi\n",
        "    if index < BATCH_SIZE - 1:\n",
        "        time.sleep(JEDA_PERMINTAAN)\n",
        "\n",
        "    if (index + 1) % 10 == 0:\n",
        "        print(f\"Progress: {index+1}/{BATCH_SIZE} data selesai. (Total waktu tunggu: {((index+1) * JEDA_PERMINTAAN) / 60:.1f} menit)\")\n",
        "\n",
        "print(\"\\n--- Hasil Uji Coba Batch Awal ---\")\n",
        "print(test_batch[['genre_aktual', 'genre_prediksi']].head(10))"
      ],
      "metadata": {
        "colab": {
          "base_uri": "https://localhost:8080/"
        },
        "id": "JM6hxIHgdQJp",
        "outputId": "08911cd1-0c91-4b38-fadf-2fcae253d0bc"
      },
      "execution_count": null,
      "outputs": [
        {
          "output_type": "stream",
          "name": "stdout",
          "text": [
            "\n",
            "--- Memulai Pengujian Batch Awal (100 Data) ---\n",
            "JEDA: 10 detik per permintaan untuk menghindari Rate Limit.\n",
            "Progress: 10/100 data selesai. (Total waktu tunggu: 1.7 menit)\n",
            "Progress: 20/100 data selesai. (Total waktu tunggu: 3.3 menit)\n",
            "Progress: 30/100 data selesai. (Total waktu tunggu: 5.0 menit)\n",
            "Progress: 40/100 data selesai. (Total waktu tunggu: 6.7 menit)\n",
            "Error pada API Call: ReplicateError Details:\n",
            "status: 429\n",
            "detail: Request was throttled. Your rate limit for creating predictions is reduced to 6 requests per minute with a burst of 1 requests until you add a payment method. Your rate limit resets in ~8s.\n",
            "Progress: 50/100 data selesai. (Total waktu tunggu: 8.3 menit)\n",
            "Progress: 60/100 data selesai. (Total waktu tunggu: 10.0 menit)\n",
            "Progress: 70/100 data selesai. (Total waktu tunggu: 11.7 menit)\n",
            "Progress: 80/100 data selesai. (Total waktu tunggu: 13.3 menit)\n",
            "Progress: 90/100 data selesai. (Total waktu tunggu: 15.0 menit)\n",
            "Progress: 100/100 data selesai. (Total waktu tunggu: 16.7 menit)\n",
            "\n",
            "--- Hasil Uji Coba Batch Awal ---\n",
            "  genre_aktual genre_prediksi\n",
            "0          rap            rap\n",
            "1          rap            rap\n",
            "2      country           rock\n",
            "3      country            pop\n",
            "4      country            pop\n",
            "5          rap            rap\n",
            "6      country        country\n",
            "7          pop            rap\n",
            "8      country         genre:\n",
            "9         rock           rock\n"
          ]
        }
      ]
    },
    {
      "cell_type": "code",
      "source": [
        "# TEST (HANYA TEST DAN BUKAN HASIL FIX, GAUSA DI RUN ULANG)\n",
        "import time\n",
        "import pandas as pd\n",
        "\n",
        "# --- KONFIGURASI PENGUJIAN BARU ---\n",
        "JEDA_PERMINTAAN = 12 # Jeda yang paling aman\n",
        "N_TEST = 20          # Jumlah data yang akan diuji\n",
        "START_INDEX = 0      # Mulai dari indeks 0\n",
        "\n",
        "# Ambil 20 data pertama dari DataFrame uji lengkap\n",
        "test_df_baru = test_df[START_INDEX : START_INDEX + N_TEST].copy().reset_index(drop=True)\n",
        "test_df_baru['genre_prediksi_baru'] = 'PENDING'\n",
        "\n",
        "print(f\"\\n--- Memulai Pengujian 20 Data Awal dengan Prompt Baru ---\")\n",
        "print(f\"JEDA: {JEDA_PERMINTAAN} detik/permintaan.\")\n",
        "print(f\"Total waktu tunggu: {N_TEST * JEDA_PERMINTAAN / 60:.1f} menit.\")\n",
        "\n",
        "# Loop untuk menguji 20 data\n",
        "for index, row in test_df_baru.iterrows():\n",
        "    lyric = row['lirik']\n",
        "    prediksi = classify_with_granite(lyric)\n",
        "    test_df_baru.loc[index, 'genre_prediksi_baru'] = prediksi\n",
        "    if index < N_TEST - 1:\n",
        "        time.sleep(JEDA_PERMINTAAN)\n",
        "\n",
        "    if (index + 1) % 5 == 0:\n",
        "        waktu_berlalu = (index + 1) * JEDA_PERMINTAAN / 60\n",
        "        print(f\"Progress: {index+1}/{N_TEST} data selesai. (Waktu berlalu: {waktu_berlalu:.1f} menit)\")\n",
        "\n",
        "print(\"\\n=====================================================================\")\n",
        "print(\"--- HASIL PENGUJIAN 20 DATA (dengan Prompt dan Cleaning Baru) ---\")\n",
        "print(\"=====================================================================\")\n",
        "\n",
        "# Menampilkan SEMUA 20 data\n",
        "print(test_df_baru[['genre_aktual', 'genre_prediksi_baru']].to_string())"
      ],
      "metadata": {
        "colab": {
          "base_uri": "https://localhost:8080/"
        },
        "id": "zmSQHCD4CHWa",
        "outputId": "e7d558df-1036-4556-fe0d-d4955e64c06d"
      },
      "execution_count": null,
      "outputs": [
        {
          "output_type": "stream",
          "name": "stdout",
          "text": [
            "\n",
            "--- Memulai Pengujian 20 Data Awal dengan Prompt Baru ---\n",
            "JEDA: 12 detik/permintaan.\n",
            "Total waktu tunggu: 4.0 menit.\n",
            "Progress: 5/20 data selesai. (Waktu berlalu: 1.0 menit)\n",
            "Progress: 10/20 data selesai. (Waktu berlalu: 2.0 menit)\n",
            "Progress: 15/20 data selesai. (Waktu berlalu: 3.0 menit)\n",
            "Progress: 20/20 data selesai. (Waktu berlalu: 4.0 menit)\n",
            "\n",
            "=====================================================================\n",
            "--- HASIL PENGUJIAN 20 DATA (dengan Prompt dan Cleaning Baru) ---\n",
            "=====================================================================\n",
            "   genre_aktual genre_prediksi_baru\n",
            "0           rap                 rap\n",
            "1           rap                 rap\n",
            "2       country             country\n",
            "3       country                 pop\n",
            "4       country                 pop\n",
            "5           rap                 rap\n",
            "6       country             country\n",
            "7           pop                 pop\n",
            "8       country             country\n",
            "9          rock                 pop\n",
            "10      country             country\n",
            "11          pop                 pop\n",
            "12          rap                 pop\n",
            "13         rock             country\n",
            "14      country             country\n",
            "15      country             country\n",
            "16          pop                 pop\n",
            "17          rap                 rap\n",
            "18      country             country\n",
            "19          pop                 pop\n"
          ]
        }
      ]
    },
    {
      "cell_type": "markdown",
      "source": [
        "# Final Testing"
      ],
      "metadata": {
        "id": "jZJaKbG-num5"
      }
    },
    {
      "cell_type": "code",
      "source": [
        "import time\n",
        "import pandas as pd\n",
        "from google.colab import files\n",
        "\n",
        "# --- KONFIGURASI BATCH OTOMATIS ---\n",
        "JEDA_PERMINTAAN = 12 # Jeda yang paling aman\n",
        "BATCH_SIZE = 100\n",
        "CSV_OUTPUT_NAME = \"granite_predictions_akumulasi_2199.csv\" # Nama file checkpoint\n",
        "\n",
        "# --- FUNGSI KONTROL BATCH UTAMA ---\n",
        "\n",
        "def run_next_batch(test_df_master):\n",
        "    \"\"\"Menguji batch 100 data berikutnya, atau sisa data, dan menyimpan hasilnya.\"\"\"\n",
        "\n",
        "    N_TOTAL_DATA = len(test_df_master)\n",
        "\n",
        "    # Cek Progres dari File Tersimpan (Checkpoint)\n",
        "    if os.path.exists(CSV_OUTPUT_NAME):\n",
        "        df_tersimpan = pd.read_csv(CSV_OUTPUT_NAME)\n",
        "        N_SELESAI = len(df_tersimpan)\n",
        "\n",
        "        if N_SELESAI >= N_TOTAL_DATA:\n",
        "            print(f\"\\n SEMUA DATA ({N_TOTAL_DATA}) SUDAH SELESAI DIUJI. Proses Selesai.\")\n",
        "            return\n",
        "\n",
        "        print(f\"\\n--- PROGRES DITEMUKAN ---\")\n",
        "        print(f\"Total {N_SELESAI} data sudah selesai diuji. Melanjutkan dari indeks {N_SELESAI}.\")\n",
        "\n",
        "    else:\n",
        "        # Jika file belum ada (Run pertama)\n",
        "        N_SELESAI = 0\n",
        "        df_tersimpan = pd.DataFrame()\n",
        "        print(f\"\\n--- MEMULAI RUN PERTAMA (Batch 1/22) dari Indeks 0 ---\")\n",
        "\n",
        "    # Tentukan indeks mulainya\n",
        "    START_INDEX = N_SELESAI\n",
        "    N_SISANYA = N_TOTAL_DATA - START_INDEX\n",
        "    N_BATCH_BARU = min(BATCH_SIZE, N_SISANYA)\n",
        "\n",
        "    # Ambil data untuk batch baru\n",
        "    batch_baru_df = test_df_master[START_INDEX : START_INDEX + N_BATCH_BARU].copy().reset_index(drop=True)\n",
        "    batch_baru_df['genre_prediksi'] = 'PENDING'\n",
        "\n",
        "    print(f\"Batch Baru: Menguji {N_BATCH_BARU} data (Indeks {START_INDEX} sampai {START_INDEX + N_BATCH_BARU - 1}).\")\n",
        "    print(f\"Waktu tunggu batch ini: {N_BATCH_BARU * JEDA_PERMINTAAN / 60:.1f} menit.\")\n",
        "\n",
        "    # Loop Pengujian\n",
        "    for index, row in batch_baru_df.iterrows():\n",
        "        lyric = row['lirik']\n",
        "\n",
        "        try:\n",
        "            prediksi = classify_with_granite(lyric)\n",
        "        except Exception as e:\n",
        "            prediksi = \"ERROR_API\"\n",
        "            print(f\"Error di data ke-{START_INDEX + index}: {e.args[0]}\")\n",
        "\n",
        "        batch_baru_df.loc[index, 'genre_prediksi'] = prediksi\n",
        "\n",
        "        if index < N_BATCH_BARU - 1:\n",
        "            time.sleep(JEDA_PERMINTAAN)\n",
        "\n",
        "        if (index + 1) % 20 == 0:\n",
        "            print(f\"Progres Batch: {index+1}/{N_BATCH_BARU} data selesai. Total data terkumpul: {N_SELESAI + index + 1}\")\n",
        "\n",
        "    # Akumulasi dan Penyimpanan\n",
        "    df_akumulasi = pd.concat([df_tersimpan, batch_baru_df], ignore_index=True)\n",
        "\n",
        "    # Simpan dan Overwrite File (Checkpoint)\n",
        "    df_akumulasi.to_csv(CSV_OUTPUT_NAME, index=False)\n",
        "\n",
        "    # download file\n",
        "    files.download(CSV_OUTPUT_NAME)\n",
        "\n",
        "    # Tampilkan progres baru\n",
        "    print(f\"\\n=============================================\")\n",
        "    print(f\"BATCH SELESAI. Total akumulasi data: {len(df_akumulasi)}/{N_TOTAL_DATA}\")\n",
        "    print(f\"File {CSV_OUTPUT_NAME} telah diperbarui dan siap diunduh. Simpan file ini!\")\n",
        "    print(f\"Untuk melanjutkan ke Batch {len(df_akumulasi)//100 + 1}, jalankan lagi cell ini.\")\n",
        "    print(\"=============================================\")\n",
        "\n",
        "# ----------------------------------------------------------------------------------\n",
        "# PERINTAH UTAMA: JALANKAN INI!\n",
        "run_next_batch(test_df)"
      ],
      "metadata": {
        "colab": {
          "base_uri": "https://localhost:8080/",
          "height": 295
        },
        "id": "8SA_Q1MxGxAa",
        "outputId": "4b6c6fab-3a00-42ec-f160-a9d5dd31fee0"
      },
      "execution_count": null,
      "outputs": [
        {
          "output_type": "stream",
          "name": "stdout",
          "text": [
            "\n",
            "--- PROGRES DITEMUKAN ---\n",
            "Total 1000 data sudah selesai diuji. Melanjutkan dari indeks 1000.\n",
            "Batch Baru: Menguji 100 data (Indeks 1000 sampai 1099).\n",
            "Waktu tunggu batch ini: 20.0 menit.\n",
            "Progres Batch: 20/100 data selesai. Total data terkumpul: 1020\n",
            "Progres Batch: 40/100 data selesai. Total data terkumpul: 1040\n",
            "Progres Batch: 60/100 data selesai. Total data terkumpul: 1060\n",
            "Progres Batch: 80/100 data selesai. Total data terkumpul: 1080\n",
            "Progres Batch: 100/100 data selesai. Total data terkumpul: 1100\n"
          ]
        },
        {
          "output_type": "display_data",
          "data": {
            "text/plain": [
              "<IPython.core.display.Javascript object>"
            ],
            "application/javascript": [
              "\n",
              "    async function download(id, filename, size) {\n",
              "      if (!google.colab.kernel.accessAllowed) {\n",
              "        return;\n",
              "      }\n",
              "      const div = document.createElement('div');\n",
              "      const label = document.createElement('label');\n",
              "      label.textContent = `Downloading \"${filename}\": `;\n",
              "      div.appendChild(label);\n",
              "      const progress = document.createElement('progress');\n",
              "      progress.max = size;\n",
              "      div.appendChild(progress);\n",
              "      document.body.appendChild(div);\n",
              "\n",
              "      const buffers = [];\n",
              "      let downloaded = 0;\n",
              "\n",
              "      const channel = await google.colab.kernel.comms.open(id);\n",
              "      // Send a message to notify the kernel that we're ready.\n",
              "      channel.send({})\n",
              "\n",
              "      for await (const message of channel.messages) {\n",
              "        // Send a message to notify the kernel that we're ready.\n",
              "        channel.send({})\n",
              "        if (message.buffers) {\n",
              "          for (const buffer of message.buffers) {\n",
              "            buffers.push(buffer);\n",
              "            downloaded += buffer.byteLength;\n",
              "            progress.value = downloaded;\n",
              "          }\n",
              "        }\n",
              "      }\n",
              "      const blob = new Blob(buffers, {type: 'application/binary'});\n",
              "      const a = document.createElement('a');\n",
              "      a.href = window.URL.createObjectURL(blob);\n",
              "      a.download = filename;\n",
              "      div.appendChild(a);\n",
              "      a.click();\n",
              "      div.remove();\n",
              "    }\n",
              "  "
            ]
          },
          "metadata": {}
        },
        {
          "output_type": "display_data",
          "data": {
            "text/plain": [
              "<IPython.core.display.Javascript object>"
            ],
            "application/javascript": [
              "download(\"download_97e3c86c-0b0a-409c-bc2a-8695243cfa78\", \"granite_predictions_akumulasi_2199.csv\", 1798873)"
            ]
          },
          "metadata": {}
        },
        {
          "output_type": "stream",
          "name": "stdout",
          "text": [
            "\n",
            "=============================================\n",
            "BATCH SELESAI. Total akumulasi data: 1100/2199\n",
            "File granite_predictions_akumulasi_2199.csv telah diperbarui dan siap diunduh. Simpan file ini!\n",
            "Untuk melanjutkan ke Batch 12, jalankan lagi cell ini.\n",
            "=============================================\n"
          ]
        }
      ]
    },
    {
      "cell_type": "markdown",
      "source": [
        "# Cleanup results"
      ],
      "metadata": {
        "id": "UzZhxtWHoHC6"
      }
    },
    {
      "cell_type": "code",
      "source": [
        "import pandas as pd\n",
        "from sklearn.metrics import accuracy_score, confusion_matrix, classification_report\n",
        "import seaborn as sns\n",
        "import matplotlib.pyplot as plt\n",
        "\n",
        "# memuat file checkpoint terakhir.\n",
        "df_final = pd.read_csv(\"granite_predictions_akumulasi_2199.csv\", header=None)\n",
        "\n",
        "# Ganti nama kolom berdasarkan urutan data yang kita miliki:\n",
        "# Kolom 0 (indeks 0) = Lirik\n",
        "# Kolom 1 (indeks 1) = Genre Aktual (yang ingin kita bandingkan)\n",
        "# Kolom 2 (indeks 2) = Genre Prediksi (hasil dari LLM)\n",
        "\n",
        "df_final.columns = ['lirik', 'genre', 'genre_prediksi']\n",
        "\n",
        "# Ambil hanya 1100 data yang sudah diuji\n",
        "df_final = df_final.head(1100).copy()\n",
        "\n",
        "print(f\"Nama kolom baru: {df_final.columns.tolist()}\")\n",
        "print(f\"Total data dimuat: {len(df_final)}\")"
      ],
      "metadata": {
        "colab": {
          "base_uri": "https://localhost:8080/"
        },
        "id": "RvFGyXwA1u8S",
        "outputId": "dffb6190-ae04-4587-81b7-1826e19be1c3"
      },
      "execution_count": null,
      "outputs": [
        {
          "output_type": "stream",
          "name": "stdout",
          "text": [
            "Nama kolom baru: ['lirik', 'genre', 'genre_prediksi']\n",
            "Total data dimuat: 1100\n"
          ]
        }
      ]
    },
    {
      "cell_type": "code",
      "source": [
        "# Tentukan daftar genre yang VALID\n",
        "GENRES_VALID = ['rap', 'country', 'pop', 'rock']\n",
        "\n",
        "df_bersih = df_final[df_final['genre_prediksi'].isin(GENRES_VALID)].copy()\n",
        "\n",
        "df_bersih = df_bersih[df_bersih['genre'].isin(GENRES_VALID)]\n",
        "\n",
        "N_HILANG = len(df_final) - len(df_bersih)\n",
        "print(f\"Data Corrupt/Invalid dihapus: {N_HILANG} baris.\")\n",
        "print(f\"Total data bersih untuk analisis: {len(df_bersih)}\")"
      ],
      "metadata": {
        "colab": {
          "base_uri": "https://localhost:8080/"
        },
        "id": "QmJCMR3lKo5d",
        "outputId": "8b80b1ab-d21f-4d2a-8b39-73368aba618e"
      },
      "execution_count": null,
      "outputs": [
        {
          "output_type": "stream",
          "name": "stdout",
          "text": [
            "Data Corrupt/Invalid dihapus: 14 baris.\n",
            "Total data bersih untuk analisis: 1086\n"
          ]
        }
      ]
    },
    {
      "cell_type": "markdown",
      "source": [
        "# Visualisasi and Accuracy"
      ],
      "metadata": {
        "id": "wXh60hCAoMyg"
      }
    },
    {
      "cell_type": "code",
      "source": [
        "# Menghitung akurasi total\n",
        "accuracy = accuracy_score(df_bersih['genre'], df_bersih['genre_prediksi'])\n",
        "print(f\"Akurasi Bersih Total: {accuracy*100:.2f}%\")"
      ],
      "metadata": {
        "colab": {
          "base_uri": "https://localhost:8080/"
        },
        "id": "CEIh3TD4KuoF",
        "outputId": "ea012669-1ada-4753-8941-aa94bd42b5e4"
      },
      "execution_count": null,
      "outputs": [
        {
          "output_type": "stream",
          "name": "stdout",
          "text": [
            "Akurasi Bersih Total: 63.17%\n"
          ]
        }
      ]
    },
    {
      "cell_type": "code",
      "source": [
        "# Hitung Confusion Matrix\n",
        "cm = confusion_matrix(df_bersih['genre'], df_bersih['genre_prediksi'], labels=GENRES_VALID)\n",
        "\n",
        "# Visualisasi Confusion Matrix\n",
        "plt.figure(figsize=(8, 6))\n",
        "sns.heatmap(cm, annot=True, fmt='d', cmap='Blues',\n",
        "            xticklabels=GENRES_VALID, yticklabels=GENRES_VALID)\n",
        "plt.title('Confusion Matrix Klasifikasi Genre Lirik')\n",
        "plt.xlabel('Prediksi LLM')\n",
        "plt.ylabel('Genre Aktual')\n",
        "plt.show() #"
      ],
      "metadata": {
        "colab": {
          "base_uri": "https://localhost:8080/",
          "height": 564
        },
        "id": "tIF2YhfEL-h8",
        "outputId": "940d5205-a873-4d4b-e6bd-acea17a007c1"
      },
      "execution_count": null,
      "outputs": [
        {
          "output_type": "display_data",
          "data": {
            "text/plain": [
              "<Figure size 800x600 with 2 Axes>"
            ],
            "image/png": "[encoded data removed]"
          },
          "metadata": {}
        }
      ]
    },
    {
      "cell_type": "code",
      "source": [
        "# Classification Report\n",
        "report = classification_report(df_bersih['genre'], df_bersih['genre_prediksi'],\n",
        "                               labels=GENRES_VALID, target_names=GENRES_VALID, output_dict=True)\n",
        "\n",
        "df_report = pd.DataFrame(report).transpose()\n",
        "print(\"\\n--- Classification Report Per Genre ---\")\n",
        "print(df_report)"
      ],
      "metadata": {
        "colab": {
          "base_uri": "https://localhost:8080/"
        },
        "id": "NgkOIo7AMBfd",
        "outputId": "563c2065-82e0-4c0f-c5f0-fbfeedb8d564"
      },
      "execution_count": null,
      "outputs": [
        {
          "output_type": "stream",
          "name": "stdout",
          "text": [
            "\n",
            "--- Classification Report Per Genre ---\n",
            "              precision    recall  f1-score      support\n",
            "rap            0.921053  0.824916  0.870337   297.000000\n",
            "country        0.762626  0.543165  0.634454   278.000000\n",
            "pop            0.395911  0.894958  0.548969   238.000000\n",
            "rock           0.916667  0.282051  0.431373   273.000000\n",
            "accuracy       0.631676  0.631676  0.631676     0.631676\n",
            "macro avg      0.749064  0.636273  0.621283  1086.000000\n",
            "weighted avg   0.764309  0.631676  0.629178  1086.000000\n"
          ]
        }
      ]
    },
    {
      "cell_type": "code",
      "source": [
        "# pakai df_report sebelumnya\n",
        "df_metrics = df_report.drop(['accuracy', 'macro avg', 'weighted avg'])[['precision', 'recall', 'f1-score']]\n",
        "df_metrics = df_metrics.reset_index().rename(columns={'index': 'Genre'})\n",
        "\n",
        "# Gabungkan data untuk plotting\n",
        "df_plot = df_metrics.melt(id_vars='Genre', var_name='Metrik', value_name='Nilai')\n",
        "\n",
        "# Visualisasi Bar Chart\n",
        "plt.figure(figsize=(10, 6))\n",
        "sns.barplot(x='Genre', y='Nilai', hue='Metrik', data=df_plot)\n",
        "plt.title('2. Precision, Recall, dan F1-Score per Genre')\n",
        "plt.ylim(0, 1)\n",
        "plt.ylabel('Skor (0.0 - 1.0)')\n",
        "plt.xlabel('Genre')\n",
        "plt.grid(axis='y', linestyle='--', alpha=0.7)\n",
        "plt.legend(title='Metrik')\n",
        "plt.show() #"
      ],
      "metadata": {
        "colab": {
          "base_uri": "https://localhost:8080/",
          "height": 564
        },
        "id": "789UHnEaMFxN",
        "outputId": "f7355fb4-a84a-41d3-9a4a-d375d53fe579"
      },
      "execution_count": null,
      "outputs": [
        {
          "output_type": "display_data",
          "data": {
            "text/plain": [
              "<Figure size 1000x600 with 1 Axes>"
            ],
            "image/png": "[encoded data removed]"
          },
          "metadata": {}
        }
      ]
    }
  ]
}